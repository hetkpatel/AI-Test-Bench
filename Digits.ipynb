{
 "cells": [
  {
   "cell_type": "code",
   "execution_count": 15,
   "metadata": {},
   "outputs": [],
   "source": [
    "import torch\n",
    "import torch.nn as nn\n",
    "import torch.nn.functional as F\n",
    "import torch.optim as optim\n",
    "from sklearn.datasets import load_digits\n",
    "from sklearn.model_selection import train_test_split\n",
    "\n",
    "import matplotlib.pyplot as plt\n",
    "%matplotlib inline\n",
    "\n",
    "from tqdm import tqdm\n",
    "import random as rd"
   ]
  },
  {
   "cell_type": "code",
   "execution_count": 3,
   "metadata": {},
   "outputs": [],
   "source": [
    "# import some data to play with\n",
    "digits = load_digits()\n",
    "X = digits.data\n",
    "y = digits.target"
   ]
  },
  {
   "cell_type": "code",
   "execution_count": 4,
   "metadata": {},
   "outputs": [],
   "source": [
    "# Split the dataset into training and validation sets\n",
    "X_train, X_val, y_train, y_val = train_test_split(X, y, test_size=0.1)\n",
    "\n",
    "# Convert the data to PyTorch tensors\n",
    "X_train_tensor = torch.from_numpy(X_train).float()\n",
    "y_train_tensor = torch.from_numpy(y_train)\n",
    "y_train_tensor = F.one_hot(y_train_tensor, num_classes=10).float()\n",
    "X_val_tensor = torch.from_numpy(X_val).float()\n",
    "y_val_tensor = torch.from_numpy(y_val)\n",
    "y_val_tensor = F.one_hot(y_val_tensor, num_classes=10).float()"
   ]
  },
  {
   "cell_type": "code",
   "execution_count": 5,
   "metadata": {},
   "outputs": [
    {
     "data": {
      "text/plain": [
       "tensor([[ 0.,  0.,  2., 11., 15.,  2.,  0.,  0.,  0.,  0., 12.,  6., 11.,  9.,\n",
       "          0.,  0.,  0.,  4., 11.,  0.,  7., 16.,  0.,  0.,  0.,  5.,  6.,  0.,\n",
       "          1., 16.,  6.,  0.,  0.,  5.,  4.,  0.,  0., 10.,  7.,  0.,  0.,  0.,\n",
       "         10.,  0.,  0., 10.,  5.,  0.,  0.,  0., 13.,  2.,  6., 12.,  0.,  0.,\n",
       "          0.,  0.,  4., 16., 12.,  1.,  0.,  0.],\n",
       "        [ 0.,  0., 14., 16., 16., 16.,  2.,  0.,  0.,  7., 16.,  5.,  1.,  0.,\n",
       "          0.,  0.,  0., 14., 13.,  7.,  3.,  0.,  0.,  0.,  0.,  4., 12., 13.,\n",
       "         16.,  9.,  0.,  0.,  0.,  0.,  0.,  0.,  6., 15.,  0.,  0.,  0.,  0.,\n",
       "          0.,  0.,  9., 14.,  0.,  0.,  0.,  0.,  5., 14., 16.,  3.,  0.,  0.,\n",
       "          0.,  1., 15., 11.,  4.,  0.,  0.,  0.]])"
      ]
     },
     "execution_count": 5,
     "metadata": {},
     "output_type": "execute_result"
    }
   ],
   "source": [
    "X_train_tensor[:2]"
   ]
  },
  {
   "cell_type": "code",
   "execution_count": 6,
   "metadata": {},
   "outputs": [
    {
     "data": {
      "text/plain": [
       "(1617, 180)"
      ]
     },
     "execution_count": 6,
     "metadata": {},
     "output_type": "execute_result"
    }
   ],
   "source": [
    "(X_train_tensor.shape[0], X_val_tensor.shape[0])"
   ]
  },
  {
   "cell_type": "code",
   "execution_count": 21,
   "metadata": {},
   "outputs": [],
   "source": [
    "# Define the MLP architecture\n",
    "class Digits_MLP(nn.Module):\n",
    "    def __init__(self):\n",
    "        super(Digits_MLP, self).__init__()\n",
    "        self.ly1 = nn.Linear(64, 50)\n",
    "        self.ly2 = nn.Linear(50, 50)\n",
    "        self.ly3 = nn.Linear(50, 10)\n",
    "        \n",
    "        \n",
    "    def forward(self, x):\n",
    "        out = F.sigmoid(self.ly1(x))\n",
    "        out = F.sigmoid(self.ly2(out))\n",
    "        out = self.ly3(out)\n",
    "        \n",
    "        return out"
   ]
  },
  {
   "cell_type": "code",
   "execution_count": 22,
   "metadata": {},
   "outputs": [],
   "source": [
    "# Create an instance of the MLP model\n",
    "model = Digits_MLP()\n",
    "\n",
    "# Define the loss function and optimizer\n",
    "criterion = nn.CrossEntropyLoss()\n",
    "optimizer = optim.SGD(model.parameters(), lr=0.03)"
   ]
  },
  {
   "cell_type": "code",
   "execution_count": 23,
   "metadata": {},
   "outputs": [
    {
     "name": "stdout",
     "output_type": "stream",
     "text": [
      "Test loss before training 2.340059757232666\n"
     ]
    }
   ],
   "source": [
    "model.eval()\n",
    "y_pred = model(X_val_tensor)\n",
    "before_train = criterion(y_pred.squeeze(), y_val_tensor)\n",
    "print('Test loss before training' , before_train.item())"
   ]
  },
  {
   "cell_type": "code",
   "execution_count": 24,
   "metadata": {},
   "outputs": [],
   "source": [
    "loss_ar = []"
   ]
  },
  {
   "cell_type": "code",
   "execution_count": 26,
   "metadata": {},
   "outputs": [
    {
     "name": "stderr",
     "output_type": "stream",
     "text": [
      "100%|██████████| 5000/5000 [00:15<00:00, 322.29it/s, Loss: 0.024247340857982635]\n"
     ]
    }
   ],
   "source": [
    "# Train the model\n",
    "model.train()\n",
    "epoch = 5000\n",
    "\n",
    "for epoch in (pbar:= tqdm(range(epoch))):\n",
    "    # Forward pass\n",
    "    y_pred = model(X_train_tensor)\n",
    "    # Compute Loss\n",
    "    loss = criterion(y_pred.squeeze(), y_train_tensor)\n",
    "    loss_ar.append(loss.item())\n",
    "\n",
    "    pbar.set_postfix_str(f\"Loss: {loss.item()}\")\n",
    "    \n",
    "    # Zero grad\n",
    "    optimizer.zero_grad()\n",
    "\n",
    "    # Backward pass\n",
    "    loss.backward()\n",
    "    optimizer.step()"
   ]
  },
  {
   "cell_type": "code",
   "execution_count": 27,
   "metadata": {},
   "outputs": [
    {
     "data": {
      "image/png": "[encoded data removed]",
      "text/plain": [
       "<Figure size 640x480 with 1 Axes>"
      ]
     },
     "metadata": {},
     "output_type": "display_data"
    }
   ],
   "source": [
    "# Plotting the loss history\n",
    "plt.plot(loss_ar)\n",
    "plt.title('Loss History')\n",
    "plt.xlabel('Epoch')\n",
    "plt.ylabel('Loss')\n",
    "plt.show()"
   ]
  },
  {
   "cell_type": "code",
   "execution_count": 28,
   "metadata": {},
   "outputs": [
    {
     "name": "stdout",
     "output_type": "stream",
     "text": [
      "Test loss after training 0.10127783566713333\n"
     ]
    }
   ],
   "source": [
    "model.eval()\n",
    "y_pred = model(X_val_tensor)\n",
    "after_train = criterion(y_pred.squeeze(), y_val_tensor)\n",
    "print('Test loss after training' , after_train.item())"
   ]
  },
  {
   "attachments": {},
   "cell_type": "markdown",
   "metadata": {},
   "source": [
    "# Run a test using predefined values"
   ]
  },
  {
   "cell_type": "code",
   "execution_count": 29,
   "metadata": {},
   "outputs": [
    {
     "data": {
      "text/plain": [
       "<Figure size 640x480 with 0 Axes>"
      ]
     },
     "metadata": {},
     "output_type": "display_data"
    },
    {
     "data": {
      "image/png": "[encoded data removed]",
      "text/plain": [
       "<Figure size 480x480 with 1 Axes>"
      ]
     },
     "metadata": {},
     "output_type": "display_data"
    },
    {
     "name": "stdout",
     "output_type": "stream",
     "text": [
      "(645, 8)\n"
     ]
    }
   ],
   "source": [
    "X_input_indx = rd.randint(0, len(X))\n",
    "\n",
    "plt.gray()\n",
    "plt.matshow(digits.images[X_input_indx])\n",
    "plt.show()\n",
    "print((X_input_indx, y[X_input_indx]))"
   ]
  },
  {
   "cell_type": "code",
   "execution_count": 30,
   "metadata": {},
   "outputs": [
    {
     "name": "stdout",
     "output_type": "stream",
     "text": [
      "0 9.037556499242783\n",
      "1 8.456223458051682\n",
      "2 1.0044101625680923\n",
      "3 5.688590183854103\n",
      "4 12.558932602405548\n",
      "5 7.815594971179962\n",
      "6 2.889661490917206\n",
      "7 9.9708691239357\n",
      "8 39.59338068962097\n",
      "9 2.9847875237464905\n"
     ]
    }
   ],
   "source": [
    "model.eval()\n",
    "output = (model(torch.from_numpy(X[X_input_indx]).float())).abs()\n",
    "\n",
    "for i in range(10):\n",
    "    print(digits.target_names[i], ((output / output.sum())[i].item() * 100))"
   ]
  }
 ],
 "metadata": {
  "kernelspec": {
   "display_name": "venv",
   "language": "python",
   "name": "python3"
  },
  "language_info": {
   "codemirror_mode": {
    "name": "ipython",
    "version": 3
   },
   "file_extension": ".py",
   "mimetype": "text/x-python",
   "name": "python",
   "nbconvert_exporter": "python",
   "pygments_lexer": "ipython3",
   "version": "3.11.4"
  },
  "orig_nbformat": 4
 },
 "nbformat": 4,
 "nbformat_minor": 2
}
