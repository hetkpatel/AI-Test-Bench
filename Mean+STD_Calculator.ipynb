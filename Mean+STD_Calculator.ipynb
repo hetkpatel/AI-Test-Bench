{
 "cells": [
  {
   "cell_type": "code",
   "execution_count": 1,
   "metadata": {},
   "outputs": [],
   "source": [
    "import torch\n",
    "import torchvision.datasets as datasets\n",
    "import torchvision.transforms as transforms"
   ]
  },
  {
   "cell_type": "code",
   "execution_count": 12,
   "metadata": {},
   "outputs": [],
   "source": [
    "t = transforms.ToTensor()\n",
    "\n",
    "train_dataset = datasets.CIFAR10(root=\"./data\", train=True, transform=t)\n",
    "test_dataset = datasets.CIFAR10(root=\"./data\", train=False, transform=t)"
   ]
  },
  {
   "cell_type": "code",
   "execution_count": 13,
   "metadata": {},
   "outputs": [
    {
     "name": "stdout",
     "output_type": "stream",
     "text": [
      "0.49186864 0.48265335 0.44717798\n",
      "0.24697131 0.24338901 0.26159254\n"
     ]
    }
   ],
   "source": [
    "dataset = train_dataset + test_dataset\n",
    "\n",
    "imgs = [item[0] for item in dataset] # item[0] and item[1] are image and its label\n",
    "imgs = torch.stack(imgs, dim=0).numpy()\n",
    "\n",
    "# calculate mean over each channel (r,g,b)\n",
    "mean_r = imgs[:,0,:,:].mean()\n",
    "mean_g = imgs[:,1,:,:].mean()\n",
    "mean_b = imgs[:,2,:,:].mean()\n",
    "print(mean_r,mean_g,mean_b)\n",
    "\n",
    "# calculate std over each channel (r,g,b)\n",
    "std_r = imgs[:,0,:,:].std()\n",
    "std_g = imgs[:,1,:,:].std()\n",
    "std_b = imgs[:,2,:,:].std()\n",
    "print(std_r,std_g,std_b)"
   ]
  }
 ],
 "metadata": {
  "kernelspec": {
   "display_name": ".venv",
   "language": "python",
   "name": "python3"
  },
  "language_info": {
   "codemirror_mode": {
    "name": "ipython",
    "version": 3
   },
   "file_extension": ".py",
   "mimetype": "text/x-python",
   "name": "python",
   "nbconvert_exporter": "python",
   "pygments_lexer": "ipython3",
   "version": "3.11.4"
  }
 },
 "nbformat": 4,
 "nbformat_minor": 2
}
